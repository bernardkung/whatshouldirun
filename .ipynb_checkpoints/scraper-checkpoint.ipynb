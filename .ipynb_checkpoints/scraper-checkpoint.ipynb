{
 "cells": [
  {
   "cell_type": "code",
   "execution_count": 16,
   "id": "a01a2d24",
   "metadata": {},
   "outputs": [],
   "source": [
    "# import modules\n",
    "import requests\n",
    "from bs4 import BeautifulSoup \n",
    "import re"
   ]
  },
  {
   "cell_type": "code",
   "execution_count": null,
   "id": "48a5be9b",
   "metadata": {},
   "outputs": [],
   "source": [
    "url_nospecs = 'https://www.wowhead.com/ptr-2/item=219307/remnant-of-darkness'"
   ]
  },
  {
   "cell_type": "code",
   "execution_count": 133,
   "id": "4e434579",
   "metadata": {},
   "outputs": [],
   "source": [
    "url = 'https://www.wowhead.com/ptr-2/item=159611/razdunks-big-red-button'\n",
    "url_tanktrink = 'https://www.wowhead.com/ptr-2/item=219307/remnant-of-darkness'\n",
    "\n",
    "# requrst to the ULR\n",
    "r = requests.get(url_tanktrink)\n",
    "\n",
    "# parsing HTML content\n",
    "soup = BeautifulSoup(r.content, 'html.parser')\n"
   ]
  },
  {
   "cell_type": "code",
   "execution_count": 144,
   "id": "af7dea41",
   "metadata": {},
   "outputs": [
    {
     "data": {
      "text/plain": [
       "[]"
      ]
     },
     "execution_count": 144,
     "metadata": {},
     "output_type": "execute_result"
    }
   ],
   "source": [
    "# Items with lootspecs in non-defined div\n",
    "lootspec_list = soup.find(\"div\", {\"data-role\": \"spell-modifiers\"})\n",
    "lootspecs = lootspec_list.findChildren()\n",
    "\n",
    "lootspecs"
   ]
  },
  {
   "cell_type": "code",
   "execution_count": 137,
   "id": "a950eeb3",
   "metadata": {},
   "outputs": [
    {
     "data": {
      "text/plain": [
       "<div data-role=\"spell-modifiers\" id=\"ks219307\"></div>"
      ]
     },
     "execution_count": 137,
     "metadata": {},
     "output_type": "execute_result"
    }
   ],
   "source": [
    "lootspec_list"
   ]
  },
  {
   "cell_type": "code",
   "execution_count": 134,
   "id": "9d3e4e30",
   "metadata": {},
   "outputs": [
    {
     "ename": "AttributeError",
     "evalue": "'NoneType' object has no attribute 'find_all'",
     "output_type": "error",
     "traceback": [
      "\u001b[1;31m---------------------------------------------------------------------------\u001b[0m",
      "\u001b[1;31mAttributeError\u001b[0m                            Traceback (most recent call last)",
      "Input \u001b[1;32mIn [134]\u001b[0m, in \u001b[0;36m<cell line: 2>\u001b[1;34m()\u001b[0m\n\u001b[0;32m      1\u001b[0m lootspec_list \u001b[38;5;241m=\u001b[39m soup\u001b[38;5;241m.\u001b[39mfind(\u001b[38;5;124m\"\u001b[39m\u001b[38;5;124mul\u001b[39m\u001b[38;5;124m\"\u001b[39m, {\u001b[38;5;124m\"\u001b[39m\u001b[38;5;124mid\u001b[39m\u001b[38;5;124m\"\u001b[39m: \u001b[38;5;124m\"\u001b[39m\u001b[38;5;124mlootspecs\u001b[39m\u001b[38;5;124m\"\u001b[39m})\n\u001b[1;32m----> 2\u001b[0m lootspecs \u001b[38;5;241m=\u001b[39m \u001b[43mlootspec_list\u001b[49m\u001b[38;5;241;43m.\u001b[39;49m\u001b[43mfind_all\u001b[49m(\u001b[38;5;124m\"\u001b[39m\u001b[38;5;124mli\u001b[39m\u001b[38;5;124m\"\u001b[39m)\n",
      "\u001b[1;31mAttributeError\u001b[0m: 'NoneType' object has no attribute 'find_all'"
     ]
    }
   ],
   "source": [
    "# Items with defined loot specs\n",
    "lootspec_list = soup.find(\"ul\", {\"id\": \"lootspecs\"})\n",
    "lootspecs = lootspec_list.find_all(\"li\")"
   ]
  },
  {
   "cell_type": "code",
   "execution_count": 131,
   "id": "aed3e8c9",
   "metadata": {},
   "outputs": [],
   "source": [
    "lootClassRe = re.compile(\"<li>([A-Za-z\\s]+):\")\n",
    "lootSpecRe = re.compile(\"WH.Tooltips.show\\(this, \\\"([A-Za-z\\s]+)\\\"\")\n",
    "\n",
    "def get_lootClasses(li):\n",
    "    lootClassRe = re.compile(\"<li>([A-Za-z\\s]+):\")\n",
    "    lootSpecRe = re.compile(\"WH.Tooltips.show\\(this, \\\"([A-Za-z\\s]+)\\\"\")\n",
    "\n",
    "    lootClasses = []\n",
    "    for li in lootspecs:\n",
    "        lootClass = re.findall(lootClassRe, str(li))\n",
    "        lootSpecs = re.findall(lootSpecRe, str(li))\n",
    "        \n",
    "        lootClasses.append({\n",
    "            'lootClass':lootClass[0] if lootClass else '',\n",
    "            'lootSpecs':lootSpecs,\n",
    "        })\n",
    "        \n",
    "    return lootClasses"
   ]
  },
  {
   "cell_type": "code",
   "execution_count": 132,
   "id": "503e66cd",
   "metadata": {},
   "outputs": [
    {
     "name": "stdout",
     "output_type": "stream",
     "text": [
      "[{'lootClass': 'Paladin', 'lootSpecs': ['Protection', 'Retribution']}, {'lootClass': 'Warrior', 'lootSpecs': ['Arms', 'Fury', 'Protection']}, {'lootClass': 'Death Knight', 'lootSpecs': ['Blood', 'Frost', 'Unholy']}]\n",
      "[{'lootClass': 'Paladin', 'lootSpecs': ['Protection', 'Retribution']}, {'lootClass': 'Warrior', 'lootSpecs': ['Arms', 'Fury', 'Protection']}, {'lootClass': 'Death Knight', 'lootSpecs': ['Blood', 'Frost', 'Unholy']}]\n",
      "[{'lootClass': 'Paladin', 'lootSpecs': ['Protection', 'Retribution']}, {'lootClass': 'Warrior', 'lootSpecs': ['Arms', 'Fury', 'Protection']}, {'lootClass': 'Death Knight', 'lootSpecs': ['Blood', 'Frost', 'Unholy']}]\n"
     ]
    }
   ],
   "source": [
    "for li in lootspecs:\n",
    "    print(get_lootClasses(li))"
   ]
  }
 ],
 "metadata": {
  "kernelspec": {
   "display_name": "Python 3 (ipykernel)",
   "language": "python",
   "name": "python3"
  },
  "language_info": {
   "codemirror_mode": {
    "name": "ipython",
    "version": 3
   },
   "file_extension": ".py",
   "mimetype": "text/x-python",
   "name": "python",
   "nbconvert_exporter": "python",
   "pygments_lexer": "ipython3",
   "version": "3.9.12"
  }
 },
 "nbformat": 4,
 "nbformat_minor": 5
}
