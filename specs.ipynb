{
 "cells": [
  {
   "cell_type": "code",
   "execution_count": 58,
   "id": "9ac818b2",
   "metadata": {},
   "outputs": [],
   "source": [
    "import csv\n",
    "import json"
   ]
  },
  {
   "cell_type": "code",
   "execution_count": 5,
   "id": "0c0b9dc9",
   "metadata": {},
   "outputs": [],
   "source": [
    "data = []\n",
    "with open('specs.csv', newline='') as csvfile:\n",
    "    reader = csv.reader(csvfile, delimiter=' ', quotechar='|')\n",
    "    for row in reader:\n",
    "        data.append(', '.join(row))\n"
   ]
  },
  {
   "cell_type": "code",
   "execution_count": 7,
   "id": "630f924b",
   "metadata": {},
   "outputs": [],
   "source": [
    "data = data[1:]"
   ]
  },
  {
   "cell_type": "code",
   "execution_count": 60,
   "id": "2ac158a9",
   "metadata": {},
   "outputs": [],
   "source": [
    "res = []\n",
    "for row in data:\n",
    "    frow = row.split(',')\n",
    "    res.append({\n",
    "        'className':frow[0],\n",
    "        'specName':frow[1],\n",
    "        'role':frow[2],\n",
    "        'armor':frow[3],\n",
    "        'mainStat':frow[4],\n",
    "    })"
   ]
  },
  {
   "cell_type": "code",
   "execution_count": 61,
   "id": "98975427",
   "metadata": {},
   "outputs": [],
   "source": [
    "uClasses = []\n",
    "for row in data:\n",
    "    frow = row.split(',')\n",
    "    if frow[0] not in uClasses:\n",
    "        uClasses.append(frow[0])"
   ]
  },
  {
   "cell_type": "code",
   "execution_count": 62,
   "id": "6534ce33",
   "metadata": {},
   "outputs": [],
   "source": [
    "grouped = []\n",
    "for uClass in uClasses:\n",
    "    specs = list(filter(lambda x: x['className']==uClass, res))\n",
    "    grouped.append([uClass, specs])"
   ]
  },
  {
   "cell_type": "code",
   "execution_count": 63,
   "id": "d9535b7d",
   "metadata": {},
   "outputs": [
    {
     "data": {
      "text/plain": [
       "[{'specName': 'blood', 'role': 'tank', 'armor': 'plate', 'mainStat': 'str'},\n",
       " {'specName': 'frost', 'role': 'mdps', 'armor': 'plate', 'mainStat': 'str'},\n",
       " {'specName': 'unholy', 'role': 'mdps', 'armor': 'plate', 'mainStat': 'str'}]"
      ]
     },
     "execution_count": 63,
     "metadata": {},
     "output_type": "execute_result"
    }
   ],
   "source": [
    "specs = grouped[0][1]\n",
    "\n",
    "# [dict(s, spec[s]) for spec in specs for s in ('spec', 'role', 'armor', 'mainStat') ]\n",
    "[ {s: spec[s] for s in ('specName', 'role', 'armor', 'mainStat')} for spec in specs ]"
   ]
  },
  {
   "cell_type": "code",
   "execution_count": 65,
   "id": "f6b9f68d",
   "metadata": {},
   "outputs": [],
   "source": [
    "out = []\n",
    "for group in grouped:\n",
    "    specs = group[1]\n",
    "#     print(specs)\n",
    "    out.append({\n",
    "        'className':group[0],\n",
    "        'specialization':[ {s: spec[s] for s in ('specName', 'role', 'armor', 'mainStat')} for spec in specs ],\n",
    "    })"
   ]
  },
  {
   "cell_type": "code",
   "execution_count": 66,
   "id": "57416dbc",
   "metadata": {},
   "outputs": [],
   "source": [
    "with open('specs.json', 'w') as f:\n",
    "    json.dump(out, f)"
   ]
  }
 ],
 "metadata": {
  "kernelspec": {
   "display_name": "Python 3 (ipykernel)",
   "language": "python",
   "name": "python3"
  },
  "language_info": {
   "codemirror_mode": {
    "name": "ipython",
    "version": 3
   },
   "file_extension": ".py",
   "mimetype": "text/x-python",
   "name": "python",
   "nbconvert_exporter": "python",
   "pygments_lexer": "ipython3",
   "version": "3.9.12"
  }
 },
 "nbformat": 4,
 "nbformat_minor": 5
}
